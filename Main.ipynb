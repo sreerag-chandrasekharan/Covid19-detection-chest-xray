{
 "cells": [
  {
   "cell_type": "markdown",
   "id": "aee77d39",
   "metadata": {},
   "source": [
    "# Detecting COVID-19 with Chest X Ray using PyTorch"
   ]
  }
 ],
 "metadata": {
  "language_info": {
   "name": "python"
  }
 },
 "nbformat": 4,
 "nbformat_minor": 5
}
